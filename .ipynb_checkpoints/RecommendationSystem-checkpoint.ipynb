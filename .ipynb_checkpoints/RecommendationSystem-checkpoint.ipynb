{
 "cells": [
  {
   "cell_type": "markdown",
   "id": "d54bcad4",
   "metadata": {},
   "source": [
    "## Import Libraries"
   ]
  },
  {
   "cell_type": "code",
   "execution_count": null,
   "id": "16b230d5",
   "metadata": {},
   "outputs": [],
   "source": [
    "import numpy as np \n",
    "import pandas as pd \n",
    "import sklearn \n",
    "import matplotlib.pyplot as plt \n",
    "import seaborn as sb "
   ]
  },
  {
   "cell_type": "markdown",
   "id": "ffd160db",
   "metadata": {},
   "source": [
    "## Import the datasets"
   ]
  },
  {
   "cell_type": "code",
   "execution_count": null,
   "id": "e9101b0c",
   "metadata": {},
   "outputs": [],
   "source": [
    "ratings = pd.read_csv(\"ratings.csv\")"
   ]
  },
  {
   "cell_type": "code",
   "execution_count": null,
   "id": "4190be86",
   "metadata": {},
   "outputs": [],
   "source": [
    "movies = pd.read_csv(\"movies.csv\")"
   ]
  },
  {
   "cell_type": "markdown",
   "id": "6d49e7f0",
   "metadata": {},
   "source": [
    "## Analysis of dataset"
   ]
  },
  {
   "cell_type": "code",
   "execution_count": null,
   "id": "c791a156",
   "metadata": {},
   "outputs": [],
   "source": [
    "n_ratings = len(ratings) \n",
    "n_movies = len(ratings['movieId'].unique()) \n",
    "n_users = len(ratings['userId'].unique())"
   ]
  },
  {
   "cell_type": "code",
   "execution_count": null,
   "id": "91994c92",
   "metadata": {},
   "outputs": [],
   "source": [
    "print(f\"Number of ratings: {n_ratings}\") \n",
    "print(f\"Number of unique movieId's: {n_movies}\") \n",
    "print(f\"Number of unique users: {n_users}\") \n",
    "print(f\"Average ratings per user: {round(n_ratings/n_users, 2)}\") \n",
    "print(f\"Average ratings per movie: {round(n_ratings/n_movies, 2)}\") "
   ]
  },
  {
   "cell_type": "code",
   "execution_count": null,
   "id": "59157309",
   "metadata": {},
   "outputs": [],
   "source": [
    "user_freq = ratings[['userId', 'movieId']].groupby('userId').count().reset_index()   #No of movies rated by a user\n",
    "user_freq.columns = ['userId', 'n_ratings'] \n",
    "user_freq.head()"
   ]
  },
  {
   "cell_type": "code",
   "execution_count": null,
   "id": "146df6fb",
   "metadata": {},
   "outputs": [],
   "source": [
    "# Find Lowest and Highest rated movies: \n",
    "mean_rating = ratings.groupby('movieId')[['rating']].mean()\n",
    "print(mean_rating)"
   ]
  },
  {
   "cell_type": "code",
   "execution_count": null,
   "id": "d2a94eea",
   "metadata": {},
   "outputs": [],
   "source": [
    "# Lowest rated movies \n",
    "lowest_rated = mean_rating['rating'].idxmin()  #lowest average rating\n",
    "movies.loc[movies['movieId'] == lowest_rated]"
   ]
  },
  {
   "cell_type": "code",
   "execution_count": null,
   "id": "e4cf12ba",
   "metadata": {},
   "outputs": [],
   "source": [
    "# Highest rated movies \n",
    "highest_rated = mean_rating['rating'].idxmax() \n",
    "movies.loc[movies['movieId'] == highest_rated]"
   ]
  },
  {
   "cell_type": "code",
   "execution_count": null,
   "id": "1393af11",
   "metadata": {},
   "outputs": [],
   "source": [
    "# This code filters the ratings DataFrame to retrieve all rows where the 'movieId' column matches the value of highest_rated. \n",
    "# This will give you all the ratings associated with the movie that has the highest-rated movieId. \n",
    "\n",
    "print(ratings[ratings['movieId'] == highest_rated])"
   ]
  },
  {
   "cell_type": "code",
   "execution_count": null,
   "id": "5776364e",
   "metadata": {},
   "outputs": [],
   "source": [
    "# This code filters the ratings DataFrame to retrieve all rows where the 'movieId' column matches the value of lowest_rated. \n",
    "# This will give you all the ratings associated with the movie that has the lowest-rated movieId. \n",
    "\n",
    "print(ratings[ratings['movieId'] == lowest_rated])"
   ]
  },
  {
   "cell_type": "code",
   "execution_count": null,
   "id": "687114cc",
   "metadata": {},
   "outputs": [],
   "source": [
    "movie_stats = ratings.groupby('movieId')[['rating']].agg(['count', 'mean']) \n",
    "movie_stats.columns = movie_stats.columns.droplevel() \n",
    "\n",
    "print(movie_stats)"
   ]
  },
  {
   "cell_type": "markdown",
   "id": "054777ae",
   "metadata": {},
   "source": [
    "## Creating necessary DS for  collaborative filtering"
   ]
  },
  {
   "cell_type": "code",
   "execution_count": null,
   "id": "d25fcd36",
   "metadata": {},
   "outputs": [],
   "source": [
    "from scipy.sparse import csr_matrix \n",
    "  \n",
    "def create_matrix(df): \n",
    "      \n",
    "    N = len(df['userId'].unique()) \n",
    "    M = len(df['movieId'].unique()) \n",
    "      \n",
    "    # Map Ids to indices \n",
    "    user_mapper = dict(zip(np.unique(df[\"userId\"]), list(range(N)))) \n",
    "    movie_mapper = dict(zip(np.unique(df[\"movieId\"]), list(range(M)))) \n",
    "      \n",
    "    # Map indices to IDs \n",
    "    user_inv_mapper = dict(zip(list(range(N)), np.unique(df[\"userId\"]))) \n",
    "    movie_inv_mapper = dict(zip(list(range(M)), np.unique(df[\"movieId\"]))) \n",
    "      \n",
    "    user_index = [user_mapper[i] for i in df['userId']] \n",
    "    movie_index = [movie_mapper[i] for i in df['movieId']] \n",
    "  \n",
    "    X = csr_matrix((df[\"rating\"], (movie_index, user_index)), shape=(M, N)) \n",
    "      \n",
    "    return X, user_mapper, movie_mapper, user_inv_mapper, movie_inv_mapper\n",
    "\n",
    "X, user_mapper, movie_mapper, user_inv_mapper, movie_inv_mapper = create_matrix(ratings)"
   ]
  },
  {
   "cell_type": "code",
   "execution_count": null,
   "id": "880c31da",
   "metadata": {},
   "outputs": [],
   "source": [
    "print(X)"
   ]
  },
  {
   "cell_type": "code",
   "execution_count": null,
   "id": "c0bba0fb",
   "metadata": {},
   "outputs": [],
   "source": [
    "movie_ind = movie_mapper[3]\n",
    "movie_vec = X[movie_ind]\n",
    "print(movie_vec)\n",
    "#(0, 0) 4.0: This indicates that user 0 rated the movie of idx = 3 with a score of 4.0.\n",
    "#(0, 5) 5.0: User 5 rated the movie with a score of 5.0.\n",
    "#(0, 18) 3.0: User 18 rated the movie with a score of 3.0."
   ]
  },
  {
   "cell_type": "markdown",
   "id": "fb40a677",
   "metadata": {},
   "source": [
    "## Training Model"
   ]
  },
  {
   "cell_type": "code",
   "execution_count": null,
   "id": "16730170",
   "metadata": {},
   "outputs": [],
   "source": [
    "from sklearn.neighbors import NearestNeighbors \n",
    "\n",
    "#Find similar movies using KNN \n",
    "\n",
    "def find_similar_movies(movie_id, X, k, metric='cosine', show_distance=False): \n",
    "      \n",
    "    neighbour_ids = [] \n",
    "      \n",
    "    movie_ind = movie_mapper[movie_id] \n",
    "    movie_vec = X[movie_ind] \n",
    "    k+=1  #The k value is incremented by 1 to ensure that it also\n",
    "          #includes the input movie itself when finding the nearest neighbors.\n",
    "    \n",
    "    kNN = NearestNeighbors(n_neighbors=k, algorithm=\"brute\", metric=metric) \n",
    "    kNN.fit(X) \n",
    "    \n",
    "    movie_vec = movie_vec.reshape(1,-1) \n",
    "    neighbour = kNN.kneighbors(movie_vec, return_distance=show_distance) \n",
    "    \n",
    "    for i in range(0,k): \n",
    "        n = neighbour.item(i) \n",
    "        neighbour_ids.append(movie_inv_mapper[n]) \n",
    "    neighbour_ids.pop(0)\n",
    "    \n",
    "    return neighbour_ids \n"
   ]
  },
  {
   "cell_type": "markdown",
   "id": "95c78645",
   "metadata": {},
   "source": [
    "EXPLANATION:\n",
    "\n",
    "Python function called find_similar_movies that is designed to find similar movies to a given movie based on a sparse matrix X, using k-Nearest Neighbors (kNN) with various options like the choice of distance metric and whether to show distances. This is a common approach for building movie recommendation systems. Here's an explanation of what this function does:\n",
    "\n",
    "neighbour_ids: This is a list that will store the IDs of the k most similar movies, excluding the input movie itself.\n",
    "\n",
    "movie_ind: This line gets the index of the movie in the sparse matrix X using the provided movie_mapper dictionary. This index is used to access the movie's vector in the matrix.\n",
    "\n",
    "movie_vec: This line extracts the feature vector of the input movie from the sparse matrix X.\n",
    "\n",
    "k += 1: The k value is incremented by 1 to ensure that it also includes the input movie itself when finding the nearest neighbors.\n",
    "\n",
    "A kNN model is created using the NearestNeighbors class from a machine learning library like scikit-learn. It is configured to find k nearest neighbors using a specific distance metric (e.g., cosine similarity) and the brute-force algorithm.\n",
    "\n",
    "The movie_vec is reshaped to have the shape (1, -1) to make it compatible with the kNN.kneighbors method.\n",
    "\n",
    "neighbour is a tuple returned by the kNN.kneighbors method. The first element contains the indices of the nearest neighbors, and the second element (if show_distance is True) contains the distances to these neighbors.\n",
    "\n",
    "A loop iterates over the indices of the nearest neighbors, extracts the corresponding movie IDs using the movie_inv_mapper dictionary, and appends them to the neighbour_ids list.\n",
    "\n",
    "Finally, the input movie ID (which is the first neighbor) is removed from the list before returning it.\n",
    "\n",
    "This function returns a list of movie IDs that are the most similar to the input movie, based on the chosen distance metric and k value. It can be used for building movie recommendation systems where you find movies similar to a given movie and recommend them to users who liked the input movie.\n",
    "\n"
   ]
  },
  {
   "cell_type": "markdown",
   "id": "abc4b250",
   "metadata": {},
   "source": [
    "## Getting Recommendations"
   ]
  },
  {
   "cell_type": "code",
   "execution_count": null,
   "id": "fd428355",
   "metadata": {},
   "outputs": [],
   "source": [
    "movie_titles = dict(zip(movies['movieId'], movies['title'])) \n",
    "print(movie_titles)"
   ]
  },
  {
   "cell_type": "code",
   "execution_count": null,
   "id": "a4daf923",
   "metadata": {},
   "outputs": [],
   "source": [
    "movie_id = int(input(\"Provide movie_id of film you watched recently (from above list): \"))\n",
    "similar_ids = find_similar_movies(movie_id, X, k=10)\n",
    "\n",
    "print(f\"Since you watched {movie_titles[movie_id]}\") \n",
    "for i in similar_ids: \n",
    "    print(movie_titles[i])"
   ]
  }
 ],
 "metadata": {
  "kernelspec": {
   "display_name": "Python 3 (ipykernel)",
   "language": "python",
   "name": "python3"
  },
  "language_info": {
   "codemirror_mode": {
    "name": "ipython",
    "version": 3
   },
   "file_extension": ".py",
   "mimetype": "text/x-python",
   "name": "python",
   "nbconvert_exporter": "python",
   "pygments_lexer": "ipython3",
   "version": "3.11.5"
  }
 },
 "nbformat": 4,
 "nbformat_minor": 5
}
